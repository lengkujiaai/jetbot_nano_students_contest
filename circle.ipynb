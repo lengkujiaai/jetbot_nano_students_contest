{
 "cells": [
  {
   "cell_type": "markdown",
   "metadata": {},
   "source": [
    "# 道路追踪-现场演示"
   ]
  },
  {
   "cell_type": "code",
   "execution_count": 1,
   "metadata": {},
   "outputs": [],
   "source": [
    "#---------------------------识别两次动物，第二次停止------------------------------------------------------------\n",
    "#-----2020-11-04--------这个代码拍下哦一个不错的视频，先识别长颈鹿，看到就停下10秒钟；再看到狗就彻底停下-----------\n",
    "#-----2020-11-06--------斑马、马的效果也很好---------大象效果也很好-------------------------------------------------\n",
    "\n",
    "import torchvision\n",
    "import torch\n",
    "import time\n",
    "import torchvision.transforms as transforms\n",
    "import torch.nn.functional as F\n",
    "import cv2\n",
    "import PIL.Image\n",
    "import numpy as np\n",
    "from IPython.display import display\n",
    "import ipywidgets\n",
    "import ipywidgets.widgets as widgets\n",
    "import traitlets\n",
    "from jetbot import bgr8_to_jpeg\n",
    "from jetbot import Robot\n",
    "from jetbot import Camera\n",
    "camera = Camera.instance(width=224, height=224,fps=10)\n",
    "device = torch.device('cuda')\n",
    "\n",
    "from jetbot import ObjectDetector\n",
    "model_object = ObjectDetector('ssd_mobilenet_v2_coco.engine')"
   ]
  },
  {
   "cell_type": "code",
   "execution_count": 2,
   "metadata": {},
   "outputs": [],
   "source": [
    "robot = Robot()\n",
    "model = torchvision.models.resnet18(pretrained=False)\n",
    "model.fc = torch.nn.Linear(512, 2)\n",
    "\n",
    "model.load_state_dict(torch.load('huangsexian_304zhang_50epoch.pth'))#黄色中间线模型\n",
    "#model.load_state_dict(torch.load('huangsexian_200zhang.pth'))#黄色中间线模型\n",
    "\n",
    "model = model.to(device)\n",
    "model = model.eval().half()\n",
    "mean = torch.Tensor([0.485, 0.456, 0.406]).cuda().half()\n",
    "std = torch.Tensor([0.229, 0.224, 0.225]).cuda().half()"
   ]
  },
  {
   "cell_type": "code",
   "execution_count": 3,
   "metadata": {},
   "outputs": [],
   "source": [
    "#这里是我定义的---20201008\n",
    "def find_object(objectId):\n",
    "    #objectId = 16是鸟、17是猫、18是狗、19是马、20是羊、21是牛、22是大象、23是熊、24是斑马、25是长颈鹿\n",
    "    image = camera.value\n",
    "    image = cv2.resize(image,(300,300))\n",
    "    detections = model_object(image)\n",
    "    matching_detections = [d for d in detections[0] if d['label'] == int(objectId)]\n",
    "    \n",
    "    if(len(matching_detections) != 0):\n",
    "        return True\n",
    "    else:\n",
    "        return False"
   ]
  },
  {
   "cell_type": "code",
   "execution_count": 4,
   "metadata": {},
   "outputs": [],
   "source": [
    "def preprocess(image):\n",
    "    image = PIL.Image.fromarray(image)\n",
    "    image = transforms.functional.to_tensor(image).to(device).half()\n",
    "    image.sub_(mean[:, None, None]).div_(std[:, None, None])\n",
    "    return image[None, ...]"
   ]
  },
  {
   "cell_type": "markdown",
   "metadata": {},
   "source": [
    "现在，我们将定义滑块来控制JetBot\n",
    "1. 速度控制（speed_gain_slider）：开始增加``speed_gain_slider``来启动JetBot\n",
    "2. 转向增益控制（steering_gain_sloder）：如果您看到JetBot摇摆不定，则需要减小``steering_gain_slider``直到平稳为止\n",
    "3. 转向偏差控制（steering_bias_slider）：如果看到JetBot偏向轨道的最右侧或最左侧，则应控制此滑块，直到JetBot开始沿中心线或轨道行进。这说明了电机偏差以及相机偏移"
   ]
  },
  {
   "cell_type": "code",
   "execution_count": 5,
   "metadata": {},
   "outputs": [
    {
     "data": {
      "application/vnd.jupyter.widget-view+json": {
       "model_id": "fd7e69053818443099f6b39fde3110af",
       "version_major": 2,
       "version_minor": 0
      },
      "text/plain": [
       "FloatSlider(value=0.47, description='speed gain', max=1.0, step=0.01)"
      ]
     },
     "metadata": {},
     "output_type": "display_data"
    },
    {
     "data": {
      "application/vnd.jupyter.widget-view+json": {
       "model_id": "884dec5dbac444608767773facdb96ac",
       "version_major": 2,
       "version_minor": 0
      },
      "text/plain": [
       "FloatSlider(value=0.09, description='steering gain', max=0.2, step=0.001)"
      ]
     },
     "metadata": {},
     "output_type": "display_data"
    },
    {
     "data": {
      "application/vnd.jupyter.widget-view+json": {
       "model_id": "bc07e79accbb4bf9bf8bd18cd69d770e",
       "version_major": 2,
       "version_minor": 0
      },
      "text/plain": [
       "FloatSlider(value=0.03, description='steering kd', max=0.2, step=0.001)"
      ]
     },
     "metadata": {},
     "output_type": "display_data"
    },
    {
     "data": {
      "application/vnd.jupyter.widget-view+json": {
       "model_id": "866ff172767146fdb4964e69e4c92aec",
       "version_major": 2,
       "version_minor": 0
      },
      "text/plain": [
       "FloatSlider(value=0.01, description='steering bias', max=0.1, min=-0.1, step=0.001)"
      ]
     },
     "metadata": {},
     "output_type": "display_data"
    }
   ],
   "source": [
    "#这个是把精度和范围变小的，适用于微调---黄色中间线\n",
    "#speed_gain_slider = ipywidgets.FloatSlider(min=0.0, max=1.0, step=0.01, value=0.29, description='speed gain')\n",
    "#steering_gain_slider = ipywidgets.FloatSlider(min=0.0, max=0.2, step=0.001, value=0.04, description='steering gain')\n",
    "#steering_dgain_slider = ipywidgets.FloatSlider(min=0.0, max=0.2, step=0.001, value=0.05, description='steering kd')\n",
    "#steering_bias_slider = ipywidgets.FloatSlider(min=-0.1, max=0.1, step=0.001, value=0.03, description='steering bias')\n",
    "\n",
    "#这个是把精度和范围变小的，适用于微调\n",
    "speed_gain_slider = ipywidgets.FloatSlider(min=0.0, max=1.0, step=0.01, value=0.47, description='speed gain')\n",
    "steering_gain_slider = ipywidgets.FloatSlider(min=0.0, max=0.2, step=0.001, value=0.09, description='steering gain')\n",
    "steering_dgain_slider = ipywidgets.FloatSlider(min=0.0, max=0.2, step=0.001, value=0.03, description='steering kd')\n",
    "steering_bias_slider = ipywidgets.FloatSlider(min=-0.1, max=0.1, step=0.001, value=0.01, description='steering bias')\n",
    "\n",
    "display(speed_gain_slider, steering_gain_slider, steering_dgain_slider, steering_bias_slider)"
   ]
  },
  {
   "cell_type": "code",
   "execution_count": 6,
   "metadata": {},
   "outputs": [],
   "source": [
    "x_slider = ipywidgets.FloatSlider(min=-100, max=100, description='x')\n",
    "y_slider = ipywidgets.FloatSlider(min=0, max=1.0, orientation='vertical', description='y')\n",
    "steering_slider = ipywidgets.FloatSlider(min=-1.0, max=1.0, description='steering')\n",
    "speed_slider = ipywidgets.FloatSlider(min=0, max=1.0, orientation='vertical', description='speed')"
   ]
  },
  {
   "cell_type": "code",
   "execution_count": 7,
   "metadata": {},
   "outputs": [],
   "source": [
    "angle = 0.0\n",
    "angle_last = 0.0\n",
    "stopped = 0\n",
    "road_or_animal = 0\n",
    "\n",
    "def execute(image):\n",
    "    global angle, angle_last\n",
    "    global stopped\n",
    "    global road_or_animal\n",
    "    road_or_animal += 1\n",
    "   \n",
    "    if stopped < 2:#寻路，发现目标就停下\n",
    "        if road_or_animal%4 != 100:#1帧寻路1帧识别，交叉运行\n",
    "            #image = cv2.resize(image,(224,224))#因为识别动物的要求高，所以获取到300*300的要缩小一下\n",
    "            xy = model(preprocess(image)).detach().float().cpu().numpy().flatten()\n",
    "            x = xy[0]\n",
    "            y = (0.5 - xy[1]) / 2.0\n",
    "            x_slider.value = x\n",
    "            y_slider.value = y\n",
    "            #print('x: '+str(x) + ' y: '+ str(y))\n",
    "            speed_slider.value = speed_gain_slider.value\n",
    "            angle = np.arctan2(x, y)\n",
    "            pid = angle * steering_gain_slider.value + (angle - angle_last) * steering_dgain_slider.value\n",
    "            angle_last = angle\n",
    "            #steering_slider.value = pid + steering_bias_slider.value\n",
    "            #robot.left_motor.value = max(min(speed_slider.value + steering_slider.value, 0.5), 0.0)\n",
    "            #robot.right_motor.value = max(min(speed_slider.value - steering_slider.value, 0.5), 0.0)\n",
    "            steering_slider.value = pid + steering_bias_slider.value\n",
    "            my_value0 = 0.5\n",
    "            my_value = 0.5\n",
    "            robot.left_motor.value = max(min(speed_slider.value*my_value0 + steering_slider.value*my_value, 1), 0.0)\n",
    "            robot.right_motor.value = max(min(speed_slider.value*my_value0 - steering_slider.value*my_value, 1), 0.0)\n",
    "                \n",
    "        else:\n",
    "            if stopped == 0:#第一次停止\n",
    "                if find_object(objectId = 18) == True:\n",
    "                    print('小车停一下')#图像是300x300的可以识别大象，224x224的识别错误\n",
    "                    #16是鸟、17是猫、18是狗、19是马、20是羊、21是牛、22是大象、23是熊、24是斑马、25是长颈鹿\n",
    "                    stopped = 2#1\n",
    "                    robot.left_motor.value = 0\n",
    "                    robot.right_motor.value = 0\n",
    "                    time.sleep(10)\n",
    "            else:\n",
    "                if stopped == 1:\n",
    "                    if find_object(objectId = 18) == True:#第二次的动物，25是长颈鹿\n",
    "                        print('彻底停止了')\n",
    "                        stopped = 2#速度设置为0后跳出执行\n",
    "                        robot.left_motor.value = 0\n",
    "                        robot.right_motor.value = 0"
   ]
  },
  {
   "cell_type": "code",
   "execution_count": 8,
   "metadata": {},
   "outputs": [],
   "source": [
    "count = 0\n",
    "def switch(change):\n",
    "    global count\n",
    "    count += 1\n",
    "    if count <= 6:\n",
    "        robot.left_motor.value = 0.29\n",
    "        robot.right_motor.value = 0.29\n",
    "        return 0\n",
    "    image = change['new']\n",
    "    execute(image)"
   ]
  },
  {
   "cell_type": "code",
   "execution_count": 9,
   "metadata": {},
   "outputs": [],
   "source": [
    "camera.observe(switch, names='value')"
   ]
  },
  {
   "cell_type": "code",
   "execution_count": 10,
   "metadata": {},
   "outputs": [],
   "source": [
    "#--------后面是停掉相机--------"
   ]
  },
  {
   "cell_type": "code",
   "execution_count": 11,
   "metadata": {},
   "outputs": [],
   "source": [
    "camera.unobserve(switch, names='value')"
   ]
  },
  {
   "cell_type": "code",
   "execution_count": 12,
   "metadata": {},
   "outputs": [],
   "source": [
    "camera.stop()"
   ]
  },
  {
   "cell_type": "code",
   "execution_count": 13,
   "metadata": {},
   "outputs": [],
   "source": [
    "time.sleep(0.1)  # add a small sleep to make sure frames have finished processing\n",
    "robot.stop()"
   ]
  },
  {
   "cell_type": "code",
   "execution_count": 14,
   "metadata": {},
   "outputs": [],
   "source": [
    "camera.stop()"
   ]
  },
  {
   "cell_type": "code",
   "execution_count": null,
   "metadata": {},
   "outputs": [],
   "source": []
  },
  {
   "cell_type": "code",
   "execution_count": null,
   "metadata": {},
   "outputs": [],
   "source": []
  },
  {
   "cell_type": "code",
   "execution_count": null,
   "metadata": {},
   "outputs": [],
   "source": []
  }
 ],
 "metadata": {
  "kernelspec": {
   "display_name": "Python 3",
   "language": "python",
   "name": "python3"
  },
  "language_info": {
   "codemirror_mode": {
    "name": "ipython",
    "version": 3
   },
   "file_extension": ".py",
   "mimetype": "text/x-python",
   "name": "python",
   "nbconvert_exporter": "python",
   "pygments_lexer": "ipython3",
   "version": "3.6.9"
  }
 },
 "nbformat": 4,
 "nbformat_minor": 4
}
