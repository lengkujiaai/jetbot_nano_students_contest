{
 "cells": [
  {
   "cell_type": "markdown",
   "metadata": {},
   "source": [
    "# 寻路、识别动物的比赛"
   ]
  },
  {
   "cell_type": "markdown",
   "metadata": {},
   "source": [
    "## 识别两次动物，第一次停10秒，第二次彻底停止"
   ]
  },
  {
   "cell_type": "markdown",
   "metadata": {},
   "source": [
    "引入相关模块"
   ]
  },
  {
   "cell_type": "code",
   "execution_count": null,
   "metadata": {},
   "outputs": [],
   "source": [
    "import torchvision\n",
    "import torch\n",
    "import time\n",
    "import torchvision.transforms as transforms\n",
    "import torch.nn.functional as F\n",
    "import cv2\n",
    "import PIL.Image\n",
    "import numpy as np\n",
    "from IPython.display import display\n",
    "import ipywidgets\n",
    "import ipywidgets.widgets as widgets\n",
    "import traitlets\n",
    "from jetbot import bgr8_to_jpeg\n",
    "from jetbot import Robot\n",
    "from jetbot import Camera\n",
    "from jetbot import ObjectDetector"
   ]
  },
  {
   "cell_type": "markdown",
   "metadata": {},
   "source": [
    "初始化相机，方便后面的调用"
   ]
  },
  {
   "cell_type": "code",
   "execution_count": null,
   "metadata": {},
   "outputs": [],
   "source": [
    "camera = Camera.instance(width=224, height=224,fps=10)"
   ]
  },
  {
   "cell_type": "markdown",
   "metadata": {},
   "source": [
    "获取cuda设备的引用，方便后面使用"
   ]
  },
  {
   "cell_type": "code",
   "execution_count": null,
   "metadata": {},
   "outputs": [],
   "source": [
    "device = torch.device('cuda')"
   ]
  },
  {
   "cell_type": "markdown",
   "metadata": {},
   "source": [
    "加载识别动物的模型"
   ]
  },
  {
   "cell_type": "code",
   "execution_count": null,
   "metadata": {},
   "outputs": [],
   "source": [
    "model_object = ObjectDetector('ssd_mobilenet_v2_coco.engine')"
   ]
  },
  {
   "cell_type": "markdown",
   "metadata": {},
   "source": [
    "初始化小车的实例"
   ]
  },
  {
   "cell_type": "code",
   "execution_count": null,
   "metadata": {},
   "outputs": [],
   "source": [
    "robot = Robot()"
   ]
  },
  {
   "cell_type": "markdown",
   "metadata": {},
   "source": [
    "导入resnet18的网络模型，pretrained=False的意思是只用网络结构，不需要预训练网络模型的参数做初始化"
   ]
  },
  {
   "cell_type": "code",
   "execution_count": null,
   "metadata": {},
   "outputs": [],
   "source": [
    "model = torchvision.models.resnet18(pretrained=False)"
   ]
  },
  {
   "cell_type": "markdown",
   "metadata": {},
   "source": [
    "对输入数据进行线性变换，输入是512维，输出是2维"
   ]
  },
  {
   "cell_type": "code",
   "execution_count": null,
   "metadata": {},
   "outputs": [],
   "source": [
    "model.fc = torch.nn.Linear(512, 2)"
   ]
  },
  {
   "cell_type": "markdown",
   "metadata": {},
   "source": [
    "加载模型huangsexian_304zhang_50epoch.pth"
   ]
  },
  {
   "cell_type": "code",
   "execution_count": null,
   "metadata": {},
   "outputs": [],
   "source": [
    "model.load_state_dict(torch.load('huangsexian_304zhang_50epoch.pth'))#黄色中间线模型\n",
    "#model.load_state_dict(torch.load('huangsexian_200zhang.pth'))#黄色中间线模型"
   ]
  },
  {
   "cell_type": "markdown",
   "metadata": {},
   "source": [
    "将模型放到device上，就是前面定义的对cuda的引用"
   ]
  },
  {
   "cell_type": "code",
   "execution_count": null,
   "metadata": {},
   "outputs": [],
   "source": [
    "model = model.to(device)"
   ]
  },
  {
   "cell_type": "markdown",
   "metadata": {},
   "source": [
    "对模型求值"
   ]
  },
  {
   "cell_type": "code",
   "execution_count": null,
   "metadata": {},
   "outputs": [],
   "source": [
    "model = model.eval().half()"
   ]
  },
  {
   "cell_type": "markdown",
   "metadata": {},
   "source": [
    "定义均值和方差，方便后面使用"
   ]
  },
  {
   "cell_type": "code",
   "execution_count": 2,
   "metadata": {},
   "outputs": [],
   "source": [
    "mean = torch.Tensor([0.485, 0.456, 0.406]).cuda().half()\n",
    "std = torch.Tensor([0.229, 0.224, 0.225]).cuda().half()"
   ]
  },
  {
   "cell_type": "markdown",
   "metadata": {},
   "source": [
    "# objectId是动物对应的索引\n",
    "\n",
    "16是鸟、17是猫、18是狗、19是马、20是羊、21是牛、22是大象、23是熊、24是斑马、25是长颈鹿\n",
    "\n",
    "如果找到模型通过相机检测到对应的动物就返回True，没有检测到就返回False"
   ]
  },
  {
   "cell_type": "code",
   "execution_count": 3,
   "metadata": {},
   "outputs": [],
   "source": [
    "def find_object(objectId):\n",
    "    image = camera.value\n",
    "    image = cv2.resize(image,(300,300))\n",
    "    #图像是300x300的可以识别，224x224的识别错误\n",
    "    detections = model_object(image)\n",
    "    matching_detections = [d for d in detections[0] if d['label'] == int(objectId)]\n",
    "    \n",
    "    if(len(matching_detections) != 0):\n",
    "        return True\n",
    "    else:\n",
    "        return False"
   ]
  },
  {
   "cell_type": "markdown",
   "metadata": {},
   "source": [
    "预处理图片"
   ]
  },
  {
   "cell_type": "code",
   "execution_count": 4,
   "metadata": {},
   "outputs": [],
   "source": [
    "def preprocess(image):\n",
    "    image = PIL.Image.fromarray(image)\n",
    "    image = transforms.functional.to_tensor(image).to(device).half()\n",
    "    image.sub_(mean[:, None, None]).div_(std[:, None, None])\n",
    "    return image[None, ...]"
   ]
  },
  {
   "cell_type": "markdown",
   "metadata": {},
   "source": [
    "定义滑块来控制JetBot，对不同的值进行控制\n",
    "1. 速度控制（speed_gain_slider）：开始增加``speed_gain_slider``来启动JetBot\n",
    "2. 转向增益控制（steering_gain_sloder）：如果您看到JetBot摇摆不定，则需要减小``steering_gain_slider``直到平稳为止\n",
    "3. 转向偏差控制（steering_bias_slider）：如果看到JetBot偏向轨道的最右侧或最左侧，则应控制此滑块，直到JetBot开始沿中心线或轨道行进。这说明了电机偏差以及相机偏移"
   ]
  },
  {
   "cell_type": "code",
   "execution_count": null,
   "metadata": {},
   "outputs": [],
   "source": [
    "speed_gain_slider = ipywidgets.FloatSlider(min=0.0, max=1.0, step=0.01, value=0.47, description='speed gain')\n",
    "steering_gain_slider = ipywidgets.FloatSlider(min=0.0, max=0.2, step=0.001, value=0.09, description='steering gain')\n",
    "steering_dgain_slider = ipywidgets.FloatSlider(min=0.0, max=0.2, step=0.001, value=0.03, description='steering kd')\n",
    "steering_bias_slider = ipywidgets.FloatSlider(min=-0.1, max=0.1, step=0.001, value=0.01, description='steering bias')"
   ]
  },
  {
   "cell_type": "markdown",
   "metadata": {},
   "source": [
    "将定义的控制调节的滑块显示出来"
   ]
  },
  {
   "cell_type": "code",
   "execution_count": null,
   "metadata": {},
   "outputs": [],
   "source": [
    "display(speed_gain_slider, steering_gain_slider, steering_dgain_slider, steering_bias_slider)"
   ]
  },
  {
   "cell_type": "markdown",
   "metadata": {},
   "source": [
    "\n",
    "\n",
    "\n",
    "\n"
   ]
  },
  {
   "cell_type": "markdown",
   "metadata": {},
   "source": [
    "stopped初始值为0，第一次停止将stopped设置为1，第二次停止将stopped设置为2，，stopped为2时不再给马达赋值\n",
    "\n",
    "road_or_animal用来判断哪些图片是用来寻路的，哪些图片是用来识别动物的。\n",
    "之所以添加这个限制是因为如果所有的图片都运行一遍寻路且都运行一遍识别动物时，nano的计算能力是不够的，会导致运行效果极差\n",
    "\n"
   ]
  },
  {
   "cell_type": "code",
   "execution_count": 7,
   "metadata": {},
   "outputs": [],
   "source": [
    "angle = 0.0\n",
    "angle_last = 0.0\n",
    "stopped = 0\n",
    "road_or_animal = 0\n",
    "\n",
    "def execute(image):\n",
    "    global angle, angle_last\n",
    "    global stopped\n",
    "    global road_or_animal\n",
    "    road_or_animal += 1\n",
    "   \n",
    "    if stopped < 2:#寻路，发现目标就停下\n",
    "        if road_or_animal%4 != 0:#3帧寻路1帧识别，交叉运行\n",
    "            xy = model(preprocess(image)).detach().float().cpu().numpy().flatten()\n",
    "            x = xy[0]\n",
    "            y = (0.5 - xy[1]) / 2.0\n",
    "            speed_slider_value = speed_gain_slider.value\n",
    "            angle = np.arctan2(x, y)\n",
    "            pid = angle * steering_gain_slider.value + (angle - angle_last) * steering_dgain_slider.value\n",
    "            angle_last = angle\n",
    "            steering_slider_value = pid + steering_bias_slider.value\n",
    "            my_value0 = 0.5\n",
    "            my_value = 0.5\n",
    "            robot.left_motor.value = max(min(speed_slider_value*my_value0 + steering_slider_value*my_value, 1), 0.0)\n",
    "            robot.right_motor.value = max(min(speed_slider_value*my_value0 - steering_slider_value*my_value, 1), 0.0)\n",
    "                \n",
    "        else:\n",
    "            if stopped == 0:#第一次停止\n",
    "                if find_object(objectId = 18) == True:\n",
    "                    print('小车停一下')\n",
    "                    #16是鸟、17是猫、18是狗、19是马、20是羊、21是牛、22是大象、23是熊、24是斑马、25是长颈鹿\n",
    "                    stopped = 1\n",
    "                    robot.left_motor.value = 0\n",
    "                    robot.right_motor.value = 0\n",
    "                    time.sleep(10)\n",
    "            else:\n",
    "                if stopped == 1:\n",
    "                    if find_object(objectId = 18) == True:#第二次停止\n",
    "                        print('彻底停止了')\n",
    "                        stopped = 2#速度设置为0后跳出执行\n",
    "                        robot.left_motor.value = 0\n",
    "                        robot.right_motor.value = 0"
   ]
  },
  {
   "cell_type": "markdown",
   "metadata": {},
   "source": [
    "count是用来设置小车在调用摄像头之前的预热启动的帧数，此时小车在不调用摄像头的情况下运行\n",
    "\n",
    "运行count帧数后才开始调用摄像头寻路"
   ]
  },
  {
   "cell_type": "code",
   "execution_count": 8,
   "metadata": {},
   "outputs": [],
   "source": [
    "count = 0\n",
    "def switch(change):\n",
    "    global count\n",
    "    count += 1\n",
    "    if count <= 6:\n",
    "        robot.left_motor.value = 0.29\n",
    "        robot.right_motor.value = 0.29\n",
    "        return 0\n",
    "    image = change['new']\n",
    "    execute(image)"
   ]
  },
  {
   "cell_type": "markdown",
   "metadata": {},
   "source": [
    "当相机的值改变时，observe方法的回调函数也会被调用，也就是相机的图片有变动就会调用switch方法"
   ]
  },
  {
   "cell_type": "code",
   "execution_count": null,
   "metadata": {},
   "outputs": [],
   "source": [
    "camera.observe(switch, names='value')"
   ]
  },
  {
   "cell_type": "markdown",
   "metadata": {},
   "source": [
    "接触相机对回调函数switch的绑定，此后相机的改变不再调用switch函数"
   ]
  },
  {
   "cell_type": "code",
   "execution_count": 11,
   "metadata": {},
   "outputs": [],
   "source": [
    "camera.unobserve(switch, names='value')"
   ]
  },
  {
   "cell_type": "markdown",
   "metadata": {},
   "source": [
    "释放camera对相机的引用，释放后不能通过camera对相机进行调用"
   ]
  },
  {
   "cell_type": "code",
   "execution_count": 12,
   "metadata": {},
   "outputs": [],
   "source": [
    "camera.stop()"
   ]
  },
  {
   "cell_type": "markdown",
   "metadata": {},
   "source": [
    "稍微等一下再停止小车，让小车有时间处理最后的图片"
   ]
  },
  {
   "cell_type": "code",
   "execution_count": 13,
   "metadata": {},
   "outputs": [],
   "source": [
    "time.sleep(0.1)\n",
    "robot.stop()"
   ]
  },
  {
   "cell_type": "code",
   "execution_count": 14,
   "metadata": {},
   "outputs": [],
   "source": []
  }
 ],
 "metadata": {
  "kernelspec": {
   "display_name": "Python 3",
   "language": "python",
   "name": "python3"
  },
  "language_info": {
   "codemirror_mode": {
    "name": "ipython",
    "version": 3
   },
   "file_extension": ".py",
   "mimetype": "text/x-python",
   "name": "python",
   "nbconvert_exporter": "python",
   "pygments_lexer": "ipython3",
   "version": "3.6.9"
  }
 },
 "nbformat": 4,
 "nbformat_minor": 4
}
